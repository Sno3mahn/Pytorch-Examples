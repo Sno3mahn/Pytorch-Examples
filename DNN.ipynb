{
 "cells": [
  {
   "cell_type": "markdown",
   "id": "3da3d83a",
   "metadata": {},
   "source": [
    "## Lookup Vanishing Gradient Problem\n",
    "\n",
    "[Visualize](https://dashee87.github.io/deep%20learning/visualising-activation-functions-in-neural-networks/)"
   ]
  },
  {
   "cell_type": "code",
   "execution_count": 1,
   "id": "d47554bd",
   "metadata": {},
   "outputs": [],
   "source": [
    "import torch\n",
    "import torch.nn as nn\n",
    "from torch.autograd import Variable\n",
    "from torch.utils.data import Dataset, DataLoader\n",
    "import numpy as np\n",
    "import matplotlib.pyplot as plt"
   ]
  },
  {
   "cell_type": "code",
   "execution_count": 2,
   "id": "b1eb57b8",
   "metadata": {},
   "outputs": [],
   "source": [
    "class DiabetesDataset(Dataset):\n",
    "    \n",
    "    def __init__(self):\n",
    "        xy=np.loadtxt('diabetes.csv', delimiter=',', dtype=np.float32)\n",
    "        self.X=Variable(torch.from_numpy(xy[:,:-1]))\n",
    "        self.y=Variable(torch.from_numpy(xy[:,[-1]]))\n",
    "        self.len=xy.shape[0]\n",
    "        \n",
    "    #required function for DataLoader\n",
    "    def __getitem__(self, index):\n",
    "        return self.X[index], self.y[index]\n",
    "    \n",
    "    def __len__(self):\n",
    "        return self.len"
   ]
  },
  {
   "cell_type": "code",
   "execution_count": 3,
   "id": "665ef674",
   "metadata": {},
   "outputs": [],
   "source": [
    "dataset=DiabetesDataset()\n",
    "train_loader=DataLoader(dataset=dataset,\n",
    "                       batch_size=32,\n",
    "                       shuffle=True,\n",
    "                       num_workers=2)"
   ]
  },
  {
   "cell_type": "code",
   "execution_count": 4,
   "id": "75d72ade",
   "metadata": {},
   "outputs": [],
   "source": [
    "class Model(nn.Module):\n",
    "    def __init__(self):\n",
    "        super(Model, self).__init__()\n",
    "        self.l1=nn.Linear(in_features=8, out_features=10)\n",
    "        self.l2=nn.Linear(in_features=10, out_features=7)\n",
    "        self.l3=nn.Linear(in_features=7, out_features=1)\n",
    "        \n",
    "        self.relu=nn.ReLU()\n",
    "        self.sigmoid=nn.Sigmoid()\n",
    "        \n",
    "    def forward(self, x):\n",
    "        out1=self.relu(self.l1(x))\n",
    "        out2=self.relu(self.l2(out1))\n",
    "        yhat=self.sigmoid(self.l3(out2))\n",
    "        return yhat"
   ]
  },
  {
   "cell_type": "code",
   "execution_count": 5,
   "id": "d44e5181",
   "metadata": {},
   "outputs": [],
   "source": [
    "model=Model()"
   ]
  },
  {
   "cell_type": "code",
   "execution_count": 6,
   "id": "c738a164",
   "metadata": {},
   "outputs": [
    {
     "name": "stderr",
     "output_type": "stream",
     "text": [
      "/home/ricky/miniconda3/lib/python3.9/site-packages/torch/nn/_reduction.py:44: UserWarning: size_average and reduce args will be deprecated, please use reduction='mean' instead.\n",
      "  warnings.warn(warning.format(ret))\n"
     ]
    }
   ],
   "source": [
    "criterion=nn.BCELoss(size_average=True)\n",
    "optimizer=torch.optim.SGD(model.parameters(), lr=0.1)"
   ]
  },
  {
   "cell_type": "code",
   "execution_count": 7,
   "id": "9ed42fba",
   "metadata": {},
   "outputs": [
    {
     "name": "stderr",
     "output_type": "stream",
     "text": [
      "/home/ricky/miniconda3/lib/python3.9/site-packages/torch/autograd/__init__.py:130: UserWarning: CUDA initialization: Found no NVIDIA driver on your system. Please check that you have an NVIDIA GPU and installed a driver from http://www.nvidia.com/Download/index.aspx (Triggered internally at  /opt/conda/conda-bld/pytorch_1607370151529/work/c10/cuda/CUDAFunctions.cpp:100.)\n",
      "  Variable._execution_engine.run_backward(\n"
     ]
    }
   ],
   "source": [
    "loss_ls=[]\n",
    "for epoch in range(500):\n",
    "    for data in train_loader:\n",
    "    \n",
    "        X, y = data\n",
    "        \n",
    "        yhat=model(X)\n",
    "    \n",
    "        loss=criterion(yhat, y)\n",
    "        loss_ls.append(loss.data.item())\n",
    "    \n",
    "        optimizer.zero_grad()\n",
    "        loss.backward()\n",
    "        optimizer.step()"
   ]
  },
  {
   "cell_type": "code",
   "execution_count": 9,
   "id": "73909875",
   "metadata": {},
   "outputs": [
    {
     "data": {
      "image/png": "[encoded data removed]",
      "text/plain": [
       "<Figure size 432x288 with 1 Axes>"
      ]
     },
     "metadata": {
      "needs_background": "light"
     },
     "output_type": "display_data"
    }
   ],
   "source": [
    "# plt.plot(np.arange(0,12000),loss_ls)\n",
    "# plt.xlabel('Epochs')\n",
    "# plt.ylabel('Loss')\n",
    "# plt.show()"
   ]
  },
  {
   "cell_type": "code",
   "execution_count": 11,
   "id": "10531620",
   "metadata": {},
   "outputs": [],
   "source": [
    "pred=model(X[20])"
   ]
  },
  {
   "cell_type": "code",
   "execution_count": 14,
   "id": "1ee025fc",
   "metadata": {},
   "outputs": [
    {
     "data": {
      "text/plain": [
       "tensor([0.9229], grad_fn=<SigmoidBackward>)"
      ]
     },
     "execution_count": 14,
     "metadata": {},
     "output_type": "execute_result"
    }
   ],
   "source": [
    "pred"
   ]
  },
  {
   "cell_type": "code",
   "execution_count": null,
   "id": "df762df1",
   "metadata": {},
   "outputs": [],
   "source": []
  }
 ],
 "metadata": {
  "kernelspec": {
   "display_name": "Python 3 (ipykernel)",
   "language": "python",
   "name": "python3"
  },
  "language_info": {
   "codemirror_mode": {
    "name": "ipython",
    "version": 3
   },
   "file_extension": ".py",
   "mimetype": "text/x-python",
   "name": "python",
   "nbconvert_exporter": "python",
   "pygments_lexer": "ipython3",
   "version": "3.9.7"
  }
 },
 "nbformat": 4,
 "nbformat_minor": 5
}
