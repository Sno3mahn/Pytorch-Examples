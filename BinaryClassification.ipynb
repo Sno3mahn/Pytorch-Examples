{
 "cells": [
  {
   "cell_type": "code",
   "execution_count": 1,
   "id": "5082ebc2",
   "metadata": {},
   "outputs": [],
   "source": [
    "import torch\n",
    "import torch.nn as nn\n",
    "from torch.autograd import Variable\n",
    "import torch.nn.functional as F\n",
    "from torch.utils.data import Dataset, DataLoader\n",
    "import numpy as np\n",
    "import pandas as pd"
   ]
  },
  {
   "cell_type": "code",
   "execution_count": 27,
   "id": "1152e095",
   "metadata": {},
   "outputs": [],
   "source": [
    "X=Variable(torch.Tensor([[1.0],[2.0],[3.0],[4.0]]))\n",
    "y=Variable(torch.Tensor([[0.],[0.],[1.],[1.]]))"
   ]
  },
  {
   "cell_type": "code",
   "execution_count": 33,
   "id": "ed5bc8a3",
   "metadata": {},
   "outputs": [],
   "source": [
    "class Model(nn.Module):\n",
    "    def __init__(self):\n",
    "        super(Model, self).__init__()\n",
    "        self.linear=nn.Linear(in_features=1,out_features=1)\n",
    "        #in_features, out_features are the dimensions of the weight matrix\n",
    "        \n",
    "    def forward(self,x):\n",
    "        yhat=F.sigmoid(self.linear(x))\n",
    "        return yhat"
   ]
  },
  {
   "cell_type": "code",
   "execution_count": 34,
   "id": "151c7396",
   "metadata": {},
   "outputs": [],
   "source": [
    "model=Model()"
   ]
  },
  {
   "cell_type": "code",
   "execution_count": 35,
   "id": "211d6203",
   "metadata": {},
   "outputs": [
    {
     "name": "stderr",
     "output_type": "stream",
     "text": [
      "/home/ricky/miniconda3/lib/python3.9/site-packages/torch/nn/_reduction.py:44: UserWarning: size_average and reduce args will be deprecated, please use reduction='mean' instead.\n",
      "  warnings.warn(warning.format(ret))\n"
     ]
    }
   ],
   "source": [
    "criterion=nn.BCELoss(size_average=True)\n",
    "optimizer=torch.optim.SGD(model.parameters(), lr=0.01)"
   ]
  },
  {
   "cell_type": "code",
   "execution_count": 36,
   "id": "a52c3b15",
   "metadata": {},
   "outputs": [
    {
     "name": "stderr",
     "output_type": "stream",
     "text": [
      "/home/ricky/miniconda3/lib/python3.9/site-packages/torch/nn/functional.py:1639: UserWarning: nn.functional.sigmoid is deprecated. Use torch.sigmoid instead.\n",
      "  warnings.warn(\"nn.functional.sigmoid is deprecated. Use torch.sigmoid instead.\")\n"
     ]
    }
   ],
   "source": [
    "loss_ls=[]\n",
    "\n",
    "#Training loop\n",
    "for epoch in range(500):\n",
    "    #Compute yhat, given X\n",
    "    yhat=model(X)\n",
    "    \n",
    "    #Compute loss\n",
    "    loss=criterion(yhat, y)\n",
    "    loss_ls.append(loss.data.item())\n",
    "    \n",
    "    #Zero gradients, perform backprop and update weights\n",
    "    optimizer.zero_grad()\n",
    "    loss.backward()\n",
    "    optimizer.step()"
   ]
  },
  {
   "cell_type": "code",
   "execution_count": 37,
   "id": "609ded66",
   "metadata": {},
   "outputs": [
    {
     "data": {
      "image/png": "[encoded data removed]",
      "text/plain": [
       "<Figure size 432x288 with 1 Axes>"
      ]
     },
     "metadata": {
      "needs_background": "light"
     },
     "output_type": "display_data"
    }
   ],
   "source": [
    "import matplotlib.pyplot as plt\n",
    "plt.plot(np.arange(0,500),loss_ls)\n",
    "plt.xlabel('Epochs')\n",
    "plt.ylabel('Loss')\n",
    "plt.show()"
   ]
  },
  {
   "cell_type": "markdown",
   "id": "0fefd2e0",
   "metadata": {},
   "source": [
    "## Learn activation functions:\n",
    "    - ReLU\n",
    "    - ReLU6\n",
    "    - ELU\n",
    "    - SELU\n",
    "    - PReLU\n",
    "    - LeakyReLU\n",
    "    - Threshold\n",
    "    - Hardtanh\n",
    "    - tanh"
   ]
  },
  {
   "cell_type": "code",
   "execution_count": null,
   "id": "e6b7cf9c",
   "metadata": {},
   "outputs": [],
   "source": []
  }
 ],
 "metadata": {
  "kernelspec": {
   "display_name": "Python 3 (ipykernel)",
   "language": "python",
   "name": "python3"
  },
  "language_info": {
   "codemirror_mode": {
    "name": "ipython",
    "version": 3
   },
   "file_extension": ".py",
   "mimetype": "text/x-python",
   "name": "python",
   "nbconvert_exporter": "python",
   "pygments_lexer": "ipython3",
   "version": "3.9.7"
  }
 },
 "nbformat": 4,
 "nbformat_minor": 5
}
